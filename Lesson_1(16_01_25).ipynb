{
  "nbformat": 4,
  "nbformat_minor": 0,
  "metadata": {
    "colab": {
      "provenance": [],
      "authorship_tag": "ABX9TyPjFHyqk/Nwcozb6dIeYDQ5",
      "include_colab_link": true
    },
    "kernelspec": {
      "name": "python3",
      "display_name": "Python 3"
    },
    "language_info": {
      "name": "python"
    }
  },
  "cells": [
    {
      "cell_type": "markdown",
      "metadata": {
        "id": "view-in-github",
        "colab_type": "text"
      },
      "source": [
        "<a href=\"https://colab.research.google.com/github/Narek-Mkhitaryan/Data-Structures-Machine-Learning-/blob/main/Lesson_1(16_01_25).ipynb\" target=\"_parent\"><img src=\"https://colab.research.google.com/assets/colab-badge.svg\" alt=\"Open In Colab\"/></a>"
      ]
    },
    {
      "cell_type": "code",
      "execution_count": null,
      "metadata": {
        "id": "H1wUXzBLN8dJ",
        "colab": {
          "base_uri": "https://localhost:8080/"
        },
        "outputId": "1d02daaa-ccb0-475c-ea1d-db27a68ac8b2"
      },
      "outputs": [
        {
          "output_type": "stream",
          "name": "stdout",
          "text": [
            "[[1 2]\n",
            " [3 4]\n",
            " [5 6]]\n"
          ]
        }
      ],
      "source": [
        "import numpy as np\n",
        "a = np.array([[1,2], [3,4], [5,6],[7,8],[9,10]])\n",
        "print (a)"
      ]
    },
    {
      "cell_type": "code",
      "source": [
        "a[0,1]"
      ],
      "metadata": {
        "colab": {
          "base_uri": "https://localhost:8080/"
        },
        "id": "VvlIgnQASw2P",
        "outputId": "6cfdb084-146e-44a4-f619-082562cc95cf"
      },
      "execution_count": null,
      "outputs": [
        {
          "output_type": "execute_result",
          "data": {
            "text/plain": [
              "2"
            ]
          },
          "metadata": {},
          "execution_count": 7
        }
      ]
    },
    {
      "cell_type": "markdown",
      "source": [
        "a[1:3,1:2]\n"
      ],
      "metadata": {
        "id": "-W8ypCPTUO6m"
      }
    },
    {
      "cell_type": "code",
      "source": [
        "a[:,0]"
      ],
      "metadata": {
        "colab": {
          "base_uri": "https://localhost:8080/"
        },
        "id": "Jy7F8lpFXBcP",
        "outputId": "a6a613a6-04f9-4de4-cfcd-2cd6c8c46a8d"
      },
      "execution_count": null,
      "outputs": [
        {
          "output_type": "execute_result",
          "data": {
            "text/plain": [
              "array([1, 3, 5])"
            ]
          },
          "metadata": {},
          "execution_count": 19
        }
      ]
    },
    {
      "cell_type": "code",
      "source": [
        "a[2:5,1:4]"
      ],
      "metadata": {
        "colab": {
          "base_uri": "https://localhost:8080/"
        },
        "id": "7VheeFxrXBHW",
        "outputId": "00253884-cda2-49ac-e030-177edd3451ac"
      },
      "execution_count": null,
      "outputs": [
        {
          "output_type": "execute_result",
          "data": {
            "text/plain": [
              "array([[6]])"
            ]
          },
          "metadata": {},
          "execution_count": 20
        }
      ]
    },
    {
      "cell_type": "code",
      "source": [
        "b =np.array([[1,2,3,4,5],[1,2,3,4,6],[1,2,3,4,7],[1,2,3,4,8],[1,2,3,4,9]])\n",
        "b"
      ],
      "metadata": {
        "colab": {
          "base_uri": "https://localhost:8080/"
        },
        "id": "_FC7DG05YABf",
        "outputId": "eeb89395-8b23-4091-eb70-efe2231c4d0c"
      },
      "execution_count": null,
      "outputs": [
        {
          "output_type": "execute_result",
          "data": {
            "text/plain": [
              "array([[1, 2, 3, 4, 5],\n",
              "       [1, 2, 3, 4, 6],\n",
              "       [1, 2, 3, 4, 7],\n",
              "       [1, 2, 3, 4, 8],\n",
              "       [1, 2, 3, 4, 9]])"
            ]
          },
          "metadata": {},
          "execution_count": 26
        }
      ]
    },
    {
      "cell_type": "code",
      "source": [
        "b[2:5,2:5]"
      ],
      "metadata": {
        "colab": {
          "base_uri": "https://localhost:8080/"
        },
        "id": "EKpJNd5zYQUt",
        "outputId": "c461ea05-4649-4ee5-8dcf-4f9ddaa662ea"
      },
      "execution_count": null,
      "outputs": [
        {
          "output_type": "execute_result",
          "data": {
            "text/plain": [
              "array([[3, 4, 7],\n",
              "       [3, 4, 8],\n",
              "       [3, 4, 9]])"
            ]
          },
          "metadata": {},
          "execution_count": 28
        }
      ]
    },
    {
      "cell_type": "code",
      "source": [
        "c = np.array([[1,2,3],[1,2],[1,2,3,4,5]], dtype=object)\n",
        "print(c.shape)"
      ],
      "metadata": {
        "colab": {
          "base_uri": "https://localhost:8080/"
        },
        "id": "UQ4rysAQY_ju",
        "outputId": "ee93e3bf-d7dc-4928-e5f0-7a603b68c807"
      },
      "execution_count": null,
      "outputs": [
        {
          "output_type": "stream",
          "name": "stdout",
          "text": [
            "(3,)\n"
          ]
        }
      ]
    },
    {
      "cell_type": "code",
      "source": [
        "b[:,1:]"
      ],
      "metadata": {
        "colab": {
          "base_uri": "https://localhost:8080/"
        },
        "id": "Z84rqJe3cixw",
        "outputId": "13cd0a69-ac70-4d44-89e3-426e01ea7eba"
      },
      "execution_count": null,
      "outputs": [
        {
          "output_type": "execute_result",
          "data": {
            "text/plain": [
              "array([[2, 3, 4, 5],\n",
              "       [2, 3, 4, 6],\n",
              "       [2, 3, 4, 7],\n",
              "       [2, 3, 4, 8],\n",
              "       [2, 3, 4, 9]])"
            ]
          },
          "metadata": {},
          "execution_count": 34
        }
      ]
    },
    {
      "cell_type": "code",
      "source": [
        "d = np.array([[[1,2,3],[4,5,6]],[[7,8,9],[10,11,12]]])\n",
        "print(d.shape)"
      ],
      "metadata": {
        "colab": {
          "base_uri": "https://localhost:8080/"
        },
        "id": "PS7vJpR_dMc5",
        "outputId": "cf7e9b97-925d-4d2c-fb78-05715a98f1a6"
      },
      "execution_count": null,
      "outputs": [
        {
          "output_type": "stream",
          "name": "stdout",
          "text": [
            "(2, 2, 3)\n"
          ]
        }
      ]
    },
    {
      "cell_type": "code",
      "source": [
        "b[0,:-2]"
      ],
      "metadata": {
        "colab": {
          "base_uri": "https://localhost:8080/"
        },
        "id": "k62derNrdgRM",
        "outputId": "b160ce78-cf32-4256-8820-238ca8da7c9a"
      },
      "execution_count": null,
      "outputs": [
        {
          "output_type": "execute_result",
          "data": {
            "text/plain": [
              "array([1, 2, 3])"
            ]
          },
          "metadata": {},
          "execution_count": 37
        }
      ]
    },
    {
      "cell_type": "code",
      "source": [
        "b[0,0:3]"
      ],
      "metadata": {
        "colab": {
          "base_uri": "https://localhost:8080/"
        },
        "id": "DS45PFX1eHqg",
        "outputId": "10613398-6048-456b-c64f-152b9c04f9a5"
      },
      "execution_count": null,
      "outputs": [
        {
          "output_type": "execute_result",
          "data": {
            "text/plain": [
              "array([1, 2, 3])"
            ]
          },
          "metadata": {},
          "execution_count": 39
        }
      ]
    },
    {
      "cell_type": "code",
      "source": [
        "image = np.random.randint(0,255,(16,16))\n",
        "print(image)\n"
      ],
      "metadata": {
        "colab": {
          "base_uri": "https://localhost:8080/"
        },
        "id": "v1wUtyMRhP2R",
        "outputId": "77b74010-5bd2-4174-da00-dc4b858e71d5"
      },
      "execution_count": null,
      "outputs": [
        {
          "output_type": "stream",
          "name": "stdout",
          "text": [
            "[[170 245 243  29 238 165 170  66 207 187 226 231  60  72  91  60]\n",
            " [ 16  79 199 186 238 156  66  81 130 221 202 103  57  53 159  40]\n",
            " [185 200 209 172 106 153  11  92 140 191  70 247  38 150 217 188]\n",
            " [121   2 226 202  45  38  77 143  58 229  74  14 227 172  50  55]\n",
            " [216 130 131   6  93 149  48 128 182 106  46 196 137  36 252 127]\n",
            " [174  91 125  50 132  32  29 188  93 160 111  83  78  75 172  42]\n",
            " [ 39 220  44 225 126 107  10 222 183 142  53 203 187 180  52   1]\n",
            " [133 213 147  97  97  66 246   9  65  70 138   1   1  75 161 119]\n",
            " [156 176  82 186 204  51  62  14  80 177 194 219 152  80 138  67]\n",
            " [ 66 150 155  67 164   3 243  96 202  13 236 190  72  99  31 128]\n",
            " [154 234   5 229  73 113  73 234 104 214 113 190 101  48  36  37]\n",
            " [247 104  98  68  93  75  92 207  62 195  82  96 124 214 168 156]\n",
            " [ 89 105 168  19  24 206 125 225  72 126  10 160 122  48 178 182]\n",
            " [137  15 236  70  53  42 202 195 216  39  37 166  53  28  83 105]\n",
            " [ 72 138 153 155 144 200  52 220  23  18 249 150  32 119  59 190]\n",
            " [144   3 252 102  17 239  13 180 175 149 171 176 137 190 119 200]]\n"
          ]
        }
      ]
    },
    {
      "cell_type": "code",
      "source": [
        "import matplotlib.pyplot as plt\n",
        "plt.imshow(image)"
      ],
      "metadata": {
        "colab": {
          "base_uri": "https://localhost:8080/",
          "height": 447
        },
        "id": "Pdjqf0c5hpoZ",
        "outputId": "9cba15c3-0b16-4f63-c0b2-1b39f2114411"
      },
      "execution_count": null,
      "outputs": [
        {
          "output_type": "execute_result",
          "data": {
            "text/plain": [
              "<matplotlib.image.AxesImage at 0x7a3eb4cd6a10>"
            ]
          },
          "metadata": {},
          "execution_count": 50
        },
        {
          "output_type": "display_data",
          "data": {
            "text/plain": [
              "<Figure size 640x480 with 1 Axes>"
            ],
            "image/png": "[encoded data removed]"
          },
          "metadata": {}
        }
      ]
    },
    {
      "cell_type": "code",
      "source": [
        "plt.imshow(image, cmap='grey')"
      ],
      "metadata": {
        "colab": {
          "base_uri": "https://localhost:8080/",
          "height": 447
        },
        "id": "7-nvobJcjRsa",
        "outputId": "3c6d75cf-90ac-428d-d24d-47bab78ac54b"
      },
      "execution_count": null,
      "outputs": [
        {
          "output_type": "execute_result",
          "data": {
            "text/plain": [
              "<matplotlib.image.AxesImage at 0x7a3eb4d92f10>"
            ]
          },
          "metadata": {},
          "execution_count": 53
        },
        {
          "output_type": "display_data",
          "data": {
            "text/plain": [
              "<Figure size 640x480 with 1 Axes>"
            ],
            "image/png": "[encoded data removed]"
          },
          "metadata": {}
        }
      ]
    },
    {
      "cell_type": "code",
      "source": [
        "image_raw = np.arange(0,255,28)\n",
        "print(image_raw)\n",
        "image_gradient = np.ones((image_raw.shape[0], 1)) * image_raw\n",
        "plt.imshow(image_gradient)"
      ],
      "metadata": {
        "colab": {
          "base_uri": "https://localhost:8080/",
          "height": 465
        },
        "id": "QdHuxTW1mccc",
        "outputId": "057013cf-8e59-4ecd-f3dd-981154fd36fe"
      },
      "execution_count": null,
      "outputs": [
        {
          "output_type": "stream",
          "name": "stdout",
          "text": [
            "[  0  28  56  84 112 140 168 196 224 252]\n"
          ]
        },
        {
          "output_type": "execute_result",
          "data": {
            "text/plain": [
              "<matplotlib.image.AxesImage at 0x7a3eb4c4ac50>"
            ]
          },
          "metadata": {},
          "execution_count": 70
        },
        {
          "output_type": "display_data",
          "data": {
            "text/plain": [
              "<Figure size 640x480 with 1 Axes>"
            ],
            "image/png": "[encoded data removed]"
          },
          "metadata": {}
        }
      ]
    },
    {
      "cell_type": "code",
      "source": [
        "image.shape[0]"
      ],
      "metadata": {
        "colab": {
          "base_uri": "https://localhost:8080/"
        },
        "id": "ZIXj90uoqE47",
        "outputId": "7388884c-7fb7-4ad1-bf64-eb4f7ea40683"
      },
      "execution_count": null,
      "outputs": [
        {
          "output_type": "execute_result",
          "data": {
            "text/plain": [
              "16"
            ]
          },
          "metadata": {},
          "execution_count": 71
        }
      ]
    },
    {
      "cell_type": "code",
      "source": [
        "np.ones(3)"
      ],
      "metadata": {
        "colab": {
          "base_uri": "https://localhost:8080/"
        },
        "id": "ZRhnN7V0qVRp",
        "outputId": "10848721-751b-4376-b09c-646ad93acfc5"
      },
      "execution_count": null,
      "outputs": [
        {
          "output_type": "execute_result",
          "data": {
            "text/plain": [
              "array([1., 1., 1.])"
            ]
          },
          "metadata": {},
          "execution_count": 79
        }
      ]
    },
    {
      "cell_type": "code",
      "source": [
        "np.ones((2,3))"
      ],
      "metadata": {
        "id": "K-5Na1WirppL",
        "outputId": "2c04e1aa-1020-4381-a28b-2ccc56e1f886",
        "colab": {
          "base_uri": "https://localhost:8080/"
        }
      },
      "execution_count": null,
      "outputs": [
        {
          "output_type": "execute_result",
          "data": {
            "text/plain": [
              "array([[1., 1., 1.],\n",
              "       [1., 1., 1.]])"
            ]
          },
          "metadata": {},
          "execution_count": 81
        }
      ]
    }
  ]
}